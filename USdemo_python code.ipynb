{
 "cells": [
  {
   "cell_type": "code",
   "execution_count": 1,
   "id": "4139ebe1-89c3-41fe-94bb-a9d61f605d72",
   "metadata": {},
   "outputs": [],
   "source": [
    "import pandas as pd\n",
    "import requests\n",
    "import sqlalchemy"
   ]
  },
  {
   "cell_type": "code",
   "execution_count": 3,
   "id": "e909b71f-7593-4c41-83a3-bd20c961ac93",
   "metadata": {},
   "outputs": [
    {
     "name": "stdout",
     "output_type": "stream",
     "text": [
      "<Response [200]>\n"
     ]
    }
   ],
   "source": [
    "URL = \"https://datausa.io/api/data?drilldowns=State&measures=Population&year=latest\"\n",
    "\n",
    "header = {\"Content-Type\": \"application/json\",\n",
    "          \"Accept-Encoding\": \"deflate\"}\n",
    "\n",
    "response = requests.get(URL, headers=header)\n",
    "print(response)"
   ]
  },
  {
   "cell_type": "code",
   "execution_count": 5,
   "id": "2a60f555-b61d-43e9-8b72-3607b664ab3b",
   "metadata": {},
   "outputs": [
    {
     "name": "stdout",
     "output_type": "stream",
     "text": [
      "Response contains JSON data.\n",
      "JSON parsed successfully!\n"
     ]
    }
   ],
   "source": [
    "content_type = response.headers.get(\"Content-Type\", \"\")\n",
    "\n",
    "if \"application/json\" in content_type:\n",
    "    print(\"Response contains JSON data.\")\n",
    "    try:\n",
    "        data = response.json()  # Try parsing JSON\n",
    "        print(\"JSON parsed successfully!\")\n",
    "    except ValueError:\n",
    "        print(\"Error: Response is not valid JSON.\")\n",
    "else:\n",
    "    print(f\"Response is not JSON. Content-Type: {content_type}\")\n",
    "    print(\"Response text:\", response.text[:500])"
   ]
  },
  {
   "cell_type": "code",
   "execution_count": 7,
   "id": "24ed33a5-0cee-4f90-9070-7708ab348e6f",
   "metadata": {},
   "outputs": [
    {
     "name": "stdout",
     "output_type": "stream",
     "text": [
      "{'data': [{'ID State': '04000US01', 'State': 'Alabama', 'ID Year': 2022, 'Year': '2022', 'Population': 5028092, 'Slug State': 'alabama'}, {'ID State': '04000US02', 'State': 'Alaska', 'ID Year': 2022, 'Year': '2022', 'Population': 734821, 'Slug State': 'alaska'}, {'ID State': '04000US04', 'State': 'Arizona', 'ID Year': 2022, 'Year': '2022', 'Population': 7172282, 'Slug State': 'arizona'}, {'ID State': '04000US05', 'State': 'Arkansas', 'ID Year': 2022, 'Year': '2022', 'Population': 3018669, 'Slug State': 'arkansas'}, {'ID State': '04000US06', 'State': 'California', 'ID Year': 2022, 'Year': '2022', 'Population': 39356104, 'Slug State': 'california'}, {'ID State': '04000US08', 'State': 'Colorado', 'ID Year': 2022, 'Year': '2022', 'Population': 5770790, 'Slug State': 'colorado'}, {'ID State': '04000US09', 'State': 'Connecticut', 'ID Year': 2022, 'Year': '2022', 'Population': 3611317, 'Slug State': 'connecticut'}, {'ID State': '04000US10', 'State': 'Delaware', 'ID Year': 2022, 'Year': '2022', 'Population': 993635, 'Slug State': 'delaware'}, {'ID State': '04000US11', 'State': 'District of Columbia', 'ID Year': 2022, 'Year': '2022', 'Population': 670587, 'Slug State': 'district-of-columbia'}, {'ID State': '04000US12', 'State': 'Florida', 'ID Year': 2022, 'Year': '2022', 'Population': 21634529, 'Slug State': 'florida'}, {'ID State': '04000US13', 'State': 'Georgia', 'ID Year': 2022, 'Year': '2022', 'Population': 10722325, 'Slug State': 'georgia'}, {'ID State': '04000US15', 'State': 'Hawaii', 'ID Year': 2022, 'Year': '2022', 'Population': 1450589, 'Slug State': 'hawaii'}, {'ID State': '04000US16', 'State': 'Idaho', 'ID Year': 2022, 'Year': '2022', 'Population': 1854109, 'Slug State': 'idaho'}, {'ID State': '04000US17', 'State': 'Illinois', 'ID Year': 2022, 'Year': '2022', 'Population': 12757634, 'Slug State': 'illinois'}, {'ID State': '04000US18', 'State': 'Indiana', 'ID Year': 2022, 'Year': '2022', 'Population': 6784403, 'Slug State': 'indiana'}, {'ID State': '04000US19', 'State': 'Iowa', 'ID Year': 2022, 'Year': '2022', 'Population': 3188836, 'Slug State': 'iowa'}, {'ID State': '04000US20', 'State': 'Kansas', 'ID Year': 2022, 'Year': '2022', 'Population': 2935922, 'Slug State': 'kansas'}, {'ID State': '04000US21', 'State': 'Kentucky', 'ID Year': 2022, 'Year': '2022', 'Population': 4502935, 'Slug State': 'kentucky'}, {'ID State': '04000US22', 'State': 'Louisiana', 'ID Year': 2022, 'Year': '2022', 'Population': 4640546, 'Slug State': 'louisiana'}, {'ID State': '04000US23', 'State': 'Maine', 'ID Year': 2022, 'Year': '2022', 'Population': 1366949, 'Slug State': 'maine'}, {'ID State': '04000US24', 'State': 'Maryland', 'ID Year': 2022, 'Year': '2022', 'Population': 6161707, 'Slug State': 'maryland'}, {'ID State': '04000US25', 'State': 'Massachusetts', 'ID Year': 2022, 'Year': '2022', 'Population': 6984205, 'Slug State': 'massachusetts'}, {'ID State': '04000US26', 'State': 'Michigan', 'ID Year': 2022, 'Year': '2022', 'Population': 10057921, 'Slug State': 'michigan'}, {'ID State': '04000US27', 'State': 'Minnesota', 'ID Year': 2022, 'Year': '2022', 'Population': 5695292, 'Slug State': 'minnesota'}, {'ID State': '04000US28', 'State': 'Mississippi', 'ID Year': 2022, 'Year': '2022', 'Population': 2958846, 'Slug State': 'mississippi'}, {'ID State': '04000US29', 'State': 'Missouri', 'ID Year': 2022, 'Year': '2022', 'Population': 6154422, 'Slug State': 'missouri'}, {'ID State': '04000US30', 'State': 'Montana', 'ID Year': 2022, 'Year': '2022', 'Population': 1091840, 'Slug State': 'montana'}, {'ID State': '04000US31', 'State': 'Nebraska', 'ID Year': 2022, 'Year': '2022', 'Population': 1958939, 'Slug State': 'nebraska'}, {'ID State': '04000US32', 'State': 'Nevada', 'ID Year': 2022, 'Year': '2022', 'Population': 3104817, 'Slug State': 'nevada'}, {'ID State': '04000US33', 'State': 'New Hampshire', 'ID Year': 2022, 'Year': '2022', 'Population': 1379610, 'Slug State': 'new-hampshire'}, {'ID State': '04000US34', 'State': 'New Jersey', 'ID Year': 2022, 'Year': '2022', 'Population': 9249063, 'Slug State': 'new-jersey'}, {'ID State': '04000US35', 'State': 'New Mexico', 'ID Year': 2022, 'Year': '2022', 'Population': 2112463, 'Slug State': 'new-mexico'}, {'ID State': '04000US36', 'State': 'New York', 'ID Year': 2022, 'Year': '2022', 'Population': 19994379, 'Slug State': 'new-york'}, {'ID State': '04000US37', 'State': 'North Carolina', 'ID Year': 2022, 'Year': '2022', 'Population': 10470214, 'Slug State': 'north-carolina'}, {'ID State': '04000US38', 'State': 'North Dakota', 'ID Year': 2022, 'Year': '2022', 'Population': 776874, 'Slug State': 'north-dakota'}, {'ID State': '04000US39', 'State': 'Ohio', 'ID Year': 2022, 'Year': '2022', 'Population': 11774683, 'Slug State': 'ohio'}, {'ID State': '04000US40', 'State': 'Oklahoma', 'ID Year': 2022, 'Year': '2022', 'Population': 3970497, 'Slug State': 'oklahoma'}, {'ID State': '04000US41', 'State': 'Oregon', 'ID Year': 2022, 'Year': '2022', 'Population': 4229374, 'Slug State': 'oregon'}, {'ID State': '04000US42', 'State': 'Pennsylvania', 'ID Year': 2022, 'Year': '2022', 'Population': 12989208, 'Slug State': 'pennsylvania'}, {'ID State': '04000US44', 'State': 'Rhode Island', 'ID Year': 2022, 'Year': '2022', 'Population': 1094250, 'Slug State': 'rhode-island'}, {'ID State': '04000US45', 'State': 'South Carolina', 'ID Year': 2022, 'Year': '2022', 'Population': 5142750, 'Slug State': 'south-carolina'}, {'ID State': '04000US46', 'State': 'South Dakota', 'ID Year': 2022, 'Year': '2022', 'Population': 890342, 'Slug State': 'south-dakota'}, {'ID State': '04000US47', 'State': 'Tennessee', 'ID Year': 2022, 'Year': '2022', 'Population': 6923772, 'Slug State': 'tennessee'}, {'ID State': '04000US48', 'State': 'Texas', 'ID Year': 2022, 'Year': '2022', 'Population': 29243342, 'Slug State': 'texas'}, {'ID State': '04000US49', 'State': 'Utah', 'ID Year': 2022, 'Year': '2022', 'Population': 3283809, 'Slug State': 'utah'}, {'ID State': '04000US50', 'State': 'Vermont', 'ID Year': 2022, 'Year': '2022', 'Population': 643816, 'Slug State': 'vermont'}, {'ID State': '04000US51', 'State': 'Virginia', 'ID Year': 2022, 'Year': '2022', 'Population': 8624511, 'Slug State': 'virginia'}, {'ID State': '04000US53', 'State': 'Washington', 'ID Year': 2022, 'Year': '2022', 'Population': 7688549, 'Slug State': 'washington'}, {'ID State': '04000US54', 'State': 'West Virginia', 'ID Year': 2022, 'Year': '2022', 'Population': 1792967, 'Slug State': 'west-virginia'}, {'ID State': '04000US55', 'State': 'Wisconsin', 'ID Year': 2022, 'Year': '2022', 'Population': 5882128, 'Slug State': 'wisconsin'}, {'ID State': '04000US56', 'State': 'Wyoming', 'ID Year': 2022, 'Year': '2022', 'Population': 577929, 'Slug State': 'wyoming'}, {'ID State': '04000US72', 'State': 'Puerto Rico', 'ID Year': 2022, 'Year': '2022', 'Population': 3272382, 'Slug State': 'puerto-rico'}], 'source': [{'measures': ['Population'], 'annotations': {'source_name': 'Census Bureau', 'source_description': 'The American Community Survey (ACS) is conducted by the US Census and sent to a portion of the population every year.', 'dataset_name': 'ACS 5-year Estimate', 'dataset_link': 'http://www.census.gov/programs-surveys/acs/', 'table_id': 'B01003', 'topic': 'Diversity', 'subtopic': 'Demographics'}, 'name': 'acs_yg_total_population_5', 'substitutions': []}]}\n"
     ]
    }
   ],
   "source": [
    "USDemo_result = response.json()\n",
    "print(USDemo_result)"
   ]
  },
  {
   "cell_type": "code",
   "execution_count": 9,
   "id": "436ee0ba-2dbd-4919-a73f-e1a51f9b50ca",
   "metadata": {},
   "outputs": [
    {
     "name": "stdout",
     "output_type": "stream",
     "text": [
      "     ID State                 State  ID Year  Year  Population  \\\n",
      "0   04000US01               Alabama     2022  2022     5028092   \n",
      "1   04000US02                Alaska     2022  2022      734821   \n",
      "2   04000US04               Arizona     2022  2022     7172282   \n",
      "3   04000US05              Arkansas     2022  2022     3018669   \n",
      "4   04000US06            California     2022  2022    39356104   \n",
      "5   04000US08              Colorado     2022  2022     5770790   \n",
      "6   04000US09           Connecticut     2022  2022     3611317   \n",
      "7   04000US10              Delaware     2022  2022      993635   \n",
      "8   04000US11  District of Columbia     2022  2022      670587   \n",
      "9   04000US12               Florida     2022  2022    21634529   \n",
      "10  04000US13               Georgia     2022  2022    10722325   \n",
      "11  04000US15                Hawaii     2022  2022     1450589   \n",
      "12  04000US16                 Idaho     2022  2022     1854109   \n",
      "13  04000US17              Illinois     2022  2022    12757634   \n",
      "14  04000US18               Indiana     2022  2022     6784403   \n",
      "\n",
      "              Slug State  \n",
      "0                alabama  \n",
      "1                 alaska  \n",
      "2                arizona  \n",
      "3               arkansas  \n",
      "4             california  \n",
      "5               colorado  \n",
      "6            connecticut  \n",
      "7               delaware  \n",
      "8   district-of-columbia  \n",
      "9                florida  \n",
      "10               georgia  \n",
      "11                hawaii  \n",
      "12                 idaho  \n",
      "13              illinois  \n",
      "14               indiana  \n"
     ]
    }
   ],
   "source": [
    "if 'data' in USDemo_result:\n",
    "    Demo_data = USDemo_result['data']\n",
    "    df = pd.DataFrame(Demo_data)\n",
    "    print(df.head(15))"
   ]
  },
  {
   "cell_type": "code",
   "execution_count": 11,
   "id": "dc5d99ae-e176-41a6-bc56-99b1c706731d",
   "metadata": {},
   "outputs": [
    {
     "name": "stdout",
     "output_type": "stream",
     "text": [
      "+----+------------+----------------------+-----------+--------+--------------+----------------------+\n",
      "|    | ID State   | State                |   ID Year |   Year |   Population | Slug State           |\n",
      "+====+============+======================+===========+========+==============+======================+\n",
      "|  0 | 04000US01  | Alabama              |      2022 |   2022 |      5028092 | alabama              |\n",
      "+----+------------+----------------------+-----------+--------+--------------+----------------------+\n",
      "|  1 | 04000US02  | Alaska               |      2022 |   2022 |       734821 | alaska               |\n",
      "+----+------------+----------------------+-----------+--------+--------------+----------------------+\n",
      "|  2 | 04000US04  | Arizona              |      2022 |   2022 |      7172282 | arizona              |\n",
      "+----+------------+----------------------+-----------+--------+--------------+----------------------+\n",
      "|  3 | 04000US05  | Arkansas             |      2022 |   2022 |      3018669 | arkansas             |\n",
      "+----+------------+----------------------+-----------+--------+--------------+----------------------+\n",
      "|  4 | 04000US06  | California           |      2022 |   2022 |     39356104 | california           |\n",
      "+----+------------+----------------------+-----------+--------+--------------+----------------------+\n",
      "|  5 | 04000US08  | Colorado             |      2022 |   2022 |      5770790 | colorado             |\n",
      "+----+------------+----------------------+-----------+--------+--------------+----------------------+\n",
      "|  6 | 04000US09  | Connecticut          |      2022 |   2022 |      3611317 | connecticut          |\n",
      "+----+------------+----------------------+-----------+--------+--------------+----------------------+\n",
      "|  7 | 04000US10  | Delaware             |      2022 |   2022 |       993635 | delaware             |\n",
      "+----+------------+----------------------+-----------+--------+--------------+----------------------+\n",
      "|  8 | 04000US11  | District of Columbia |      2022 |   2022 |       670587 | district-of-columbia |\n",
      "+----+------------+----------------------+-----------+--------+--------------+----------------------+\n",
      "|  9 | 04000US12  | Florida              |      2022 |   2022 |     21634529 | florida              |\n",
      "+----+------------+----------------------+-----------+--------+--------------+----------------------+\n",
      "| 10 | 04000US13  | Georgia              |      2022 |   2022 |     10722325 | georgia              |\n",
      "+----+------------+----------------------+-----------+--------+--------------+----------------------+\n",
      "| 11 | 04000US15  | Hawaii               |      2022 |   2022 |      1450589 | hawaii               |\n",
      "+----+------------+----------------------+-----------+--------+--------------+----------------------+\n",
      "| 12 | 04000US16  | Idaho                |      2022 |   2022 |      1854109 | idaho                |\n",
      "+----+------------+----------------------+-----------+--------+--------------+----------------------+\n",
      "| 13 | 04000US17  | Illinois             |      2022 |   2022 |     12757634 | illinois             |\n",
      "+----+------------+----------------------+-----------+--------+--------------+----------------------+\n",
      "| 14 | 04000US18  | Indiana              |      2022 |   2022 |      6784403 | indiana              |\n",
      "+----+------------+----------------------+-----------+--------+--------------+----------------------+\n",
      "| 15 | 04000US19  | Iowa                 |      2022 |   2022 |      3188836 | iowa                 |\n",
      "+----+------------+----------------------+-----------+--------+--------------+----------------------+\n",
      "| 16 | 04000US20  | Kansas               |      2022 |   2022 |      2935922 | kansas               |\n",
      "+----+------------+----------------------+-----------+--------+--------------+----------------------+\n",
      "| 17 | 04000US21  | Kentucky             |      2022 |   2022 |      4502935 | kentucky             |\n",
      "+----+------------+----------------------+-----------+--------+--------------+----------------------+\n",
      "| 18 | 04000US22  | Louisiana            |      2022 |   2022 |      4640546 | louisiana            |\n",
      "+----+------------+----------------------+-----------+--------+--------------+----------------------+\n",
      "| 19 | 04000US23  | Maine                |      2022 |   2022 |      1366949 | maine                |\n",
      "+----+------------+----------------------+-----------+--------+--------------+----------------------+\n",
      "| 20 | 04000US24  | Maryland             |      2022 |   2022 |      6161707 | maryland             |\n",
      "+----+------------+----------------------+-----------+--------+--------------+----------------------+\n",
      "| 21 | 04000US25  | Massachusetts        |      2022 |   2022 |      6984205 | massachusetts        |\n",
      "+----+------------+----------------------+-----------+--------+--------------+----------------------+\n",
      "| 22 | 04000US26  | Michigan             |      2022 |   2022 |     10057921 | michigan             |\n",
      "+----+------------+----------------------+-----------+--------+--------------+----------------------+\n",
      "| 23 | 04000US27  | Minnesota            |      2022 |   2022 |      5695292 | minnesota            |\n",
      "+----+------------+----------------------+-----------+--------+--------------+----------------------+\n",
      "| 24 | 04000US28  | Mississippi          |      2022 |   2022 |      2958846 | mississippi          |\n",
      "+----+------------+----------------------+-----------+--------+--------------+----------------------+\n",
      "| 25 | 04000US29  | Missouri             |      2022 |   2022 |      6154422 | missouri             |\n",
      "+----+------------+----------------------+-----------+--------+--------------+----------------------+\n",
      "| 26 | 04000US30  | Montana              |      2022 |   2022 |      1091840 | montana              |\n",
      "+----+------------+----------------------+-----------+--------+--------------+----------------------+\n",
      "| 27 | 04000US31  | Nebraska             |      2022 |   2022 |      1958939 | nebraska             |\n",
      "+----+------------+----------------------+-----------+--------+--------------+----------------------+\n",
      "| 28 | 04000US32  | Nevada               |      2022 |   2022 |      3104817 | nevada               |\n",
      "+----+------------+----------------------+-----------+--------+--------------+----------------------+\n",
      "| 29 | 04000US33  | New Hampshire        |      2022 |   2022 |      1379610 | new-hampshire        |\n",
      "+----+------------+----------------------+-----------+--------+--------------+----------------------+\n",
      "| 30 | 04000US34  | New Jersey           |      2022 |   2022 |      9249063 | new-jersey           |\n",
      "+----+------------+----------------------+-----------+--------+--------------+----------------------+\n",
      "| 31 | 04000US35  | New Mexico           |      2022 |   2022 |      2112463 | new-mexico           |\n",
      "+----+------------+----------------------+-----------+--------+--------------+----------------------+\n",
      "| 32 | 04000US36  | New York             |      2022 |   2022 |     19994379 | new-york             |\n",
      "+----+------------+----------------------+-----------+--------+--------------+----------------------+\n",
      "| 33 | 04000US37  | North Carolina       |      2022 |   2022 |     10470214 | north-carolina       |\n",
      "+----+------------+----------------------+-----------+--------+--------------+----------------------+\n",
      "| 34 | 04000US38  | North Dakota         |      2022 |   2022 |       776874 | north-dakota         |\n",
      "+----+------------+----------------------+-----------+--------+--------------+----------------------+\n",
      "| 35 | 04000US39  | Ohio                 |      2022 |   2022 |     11774683 | ohio                 |\n",
      "+----+------------+----------------------+-----------+--------+--------------+----------------------+\n",
      "| 36 | 04000US40  | Oklahoma             |      2022 |   2022 |      3970497 | oklahoma             |\n",
      "+----+------------+----------------------+-----------+--------+--------------+----------------------+\n",
      "| 37 | 04000US41  | Oregon               |      2022 |   2022 |      4229374 | oregon               |\n",
      "+----+------------+----------------------+-----------+--------+--------------+----------------------+\n",
      "| 38 | 04000US42  | Pennsylvania         |      2022 |   2022 |     12989208 | pennsylvania         |\n",
      "+----+------------+----------------------+-----------+--------+--------------+----------------------+\n",
      "| 39 | 04000US44  | Rhode Island         |      2022 |   2022 |      1094250 | rhode-island         |\n",
      "+----+------------+----------------------+-----------+--------+--------------+----------------------+\n",
      "| 40 | 04000US45  | South Carolina       |      2022 |   2022 |      5142750 | south-carolina       |\n",
      "+----+------------+----------------------+-----------+--------+--------------+----------------------+\n",
      "| 41 | 04000US46  | South Dakota         |      2022 |   2022 |       890342 | south-dakota         |\n",
      "+----+------------+----------------------+-----------+--------+--------------+----------------------+\n",
      "| 42 | 04000US47  | Tennessee            |      2022 |   2022 |      6923772 | tennessee            |\n",
      "+----+------------+----------------------+-----------+--------+--------------+----------------------+\n",
      "| 43 | 04000US48  | Texas                |      2022 |   2022 |     29243342 | texas                |\n",
      "+----+------------+----------------------+-----------+--------+--------------+----------------------+\n",
      "| 44 | 04000US49  | Utah                 |      2022 |   2022 |      3283809 | utah                 |\n",
      "+----+------------+----------------------+-----------+--------+--------------+----------------------+\n",
      "| 45 | 04000US50  | Vermont              |      2022 |   2022 |       643816 | vermont              |\n",
      "+----+------------+----------------------+-----------+--------+--------------+----------------------+\n",
      "| 46 | 04000US51  | Virginia             |      2022 |   2022 |      8624511 | virginia             |\n",
      "+----+------------+----------------------+-----------+--------+--------------+----------------------+\n",
      "| 47 | 04000US53  | Washington           |      2022 |   2022 |      7688549 | washington           |\n",
      "+----+------------+----------------------+-----------+--------+--------------+----------------------+\n",
      "| 48 | 04000US54  | West Virginia        |      2022 |   2022 |      1792967 | west-virginia        |\n",
      "+----+------------+----------------------+-----------+--------+--------------+----------------------+\n",
      "| 49 | 04000US55  | Wisconsin            |      2022 |   2022 |      5882128 | wisconsin            |\n",
      "+----+------------+----------------------+-----------+--------+--------------+----------------------+\n",
      "| 50 | 04000US56  | Wyoming              |      2022 |   2022 |       577929 | wyoming              |\n",
      "+----+------------+----------------------+-----------+--------+--------------+----------------------+\n",
      "| 51 | 04000US72  | Puerto Rico          |      2022 |   2022 |      3272382 | puerto-rico          |\n",
      "+----+------------+----------------------+-----------+--------+--------------+----------------------+\n"
     ]
    }
   ],
   "source": [
    "from tabulate import tabulate #puts the entire data into a cleaner looking table\n",
    "\n",
    "print(tabulate(df, headers='keys', tablefmt='grid'))"
   ]
  },
  {
   "cell_type": "code",
   "execution_count": 13,
   "id": "c59a4b8d-1548-4a66-9f1f-f05c40d824b4",
   "metadata": {},
   "outputs": [],
   "source": [
    "from sqlalchemy import create_engine\n",
    "\n",
    "# Define the connection string for Windows Authentication\n",
    "db_connection = \"mssql+pyodbc://@KING\\\\SQLEXPRESS/DataKing2025?trusted_connection=yes&driver=ODBC+Driver+17+for+SQL+Server\"\n",
    "\n",
    "# Create engine\n",
    "engine = create_engine(db_connection)"
   ]
  },
  {
   "cell_type": "code",
   "execution_count": 16,
   "id": "4929752a-8a76-4160-aec5-9b0a7f97f060",
   "metadata": {},
   "outputs": [
    {
     "data": {
      "text/plain": [
       "52"
      ]
     },
     "execution_count": 16,
     "metadata": {},
     "output_type": "execute_result"
    }
   ],
   "source": [
    "df.to_sql(name='Data', con=engine, if_exists='append', index=False)"
   ]
  },
  {
   "cell_type": "code",
   "execution_count": null,
   "id": "d2e58ac4-f7fd-4182-8b3d-193af7009add",
   "metadata": {},
   "outputs": [],
   "source": []
  }
 ],
 "metadata": {
  "kernelspec": {
   "display_name": "Python [conda env:base] *",
   "language": "python",
   "name": "conda-base-py"
  },
  "language_info": {
   "codemirror_mode": {
    "name": "ipython",
    "version": 3
   },
   "file_extension": ".py",
   "mimetype": "text/x-python",
   "name": "python",
   "nbconvert_exporter": "python",
   "pygments_lexer": "ipython3",
   "version": "3.12.7"
  }
 },
 "nbformat": 4,
 "nbformat_minor": 5
}
